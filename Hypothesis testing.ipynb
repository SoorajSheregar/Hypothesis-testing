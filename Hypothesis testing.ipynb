{
 "cells": [
  {
   "cell_type": "markdown",
   "id": "31bdbbf5",
   "metadata": {},
   "source": [
    "# Hypothesis testing"
   ]
  },
  {
   "cell_type": "markdown",
   "id": "eb80c979",
   "metadata": {},
   "source": [
    "## Q1"
   ]
  },
  {
   "cell_type": "code",
   "execution_count": 1,
   "id": "4ce6ef33",
   "metadata": {},
   "outputs": [
    {
     "name": "stdout",
     "output_type": "stream",
     "text": [
      "Levene's test p-value: 0.4176162212502553\n",
      "t-statistic: 0.7228688704678063\n",
      "p-value: 0.4722394724599501\n",
      "Fail to reject null hypothesis: No significant difference in cutlet diameters.\n"
     ]
    }
   ],
   "source": [
    "import pandas as pd\n",
    "from scipy import stats\n",
    "\n",
    "# Load the data\n",
    "data = pd.read_csv(r'C:\\Users\\Sooraj\\Downloads\\Cutlets.csv')\n",
    "\n",
    "unit1_measurements = data['Unit A']\n",
    "unit2_measurements = data['Unit B']\n",
    "\n",
    "# Perform Levene's test for equality of variances\n",
    "_, p_value_variances = stats.levene(unit1_measurements, unit2_measurements)\n",
    "print(\"Levene's test p-value:\", p_value_variances)\n",
    "\n",
    "# Perform independent two-sample t-test\n",
    "t_statistic, p_value = stats.ttest_ind(unit1_measurements, unit2_measurements)\n",
    "print(\"t-statistic:\", t_statistic)\n",
    "print(\"p-value:\", p_value)\n",
    "\n",
    "# Check if the p-value is less than the significance level (e.g., 0.05)\n",
    "if p_value < 0.05:\n",
    "    print(\"Reject null hypothesis: There is a significant difference in cutlet diameters.\")\n",
    "else:\n",
    "    print(\"Fail to reject null hypothesis: No significant difference in cutlet diameters.\")"
   ]
  },
  {
   "cell_type": "markdown",
   "id": "5a4a10e6",
   "metadata": {},
   "source": [
    "## Q2"
   ]
  },
  {
   "cell_type": "code",
   "execution_count": 2,
   "id": "96dd7dd2",
   "metadata": {},
   "outputs": [
    {
     "name": "stdout",
     "output_type": "stream",
     "text": [
      "F-statistic: 118.70421654401437\n",
      "p-value: 2.1156708949992414e-57\n",
      "Reject null hypothesis: There is a significant difference in average TAT among the laboratories.\n"
     ]
    }
   ],
   "source": [
    "import pandas as pd\n",
    "from scipy import stats\n",
    "\n",
    "data= pd.read_csv(r'C:\\Users\\Sooraj\\Downloads\\LabTAT.csv')\n",
    "\n",
    "U1= data['Laboratory 1']\n",
    "U2= data['Laboratory 2']\n",
    "U3= data['Laboratory 3']\n",
    "U4= data['Laboratory 4']\n",
    "\n",
    "f_statistic, p_value = stats.f_oneway(U1,U2,U3,U4)\n",
    "\n",
    "print(\"F-statistic:\", f_statistic)\n",
    "print(\"p-value:\", p_value)\n",
    "\n",
    "# Check the significance level\n",
    "alpha = 0.05\n",
    "if p_value < alpha:\n",
    "    print(\"Reject null hypothesis: There is a significant difference in average TAT among the laboratories.\")\n",
    "else:\n",
    "    print(\"Fail to reject null hypothesis: No significant difference in average TAT among the laboratories.\")\n",
    "  "
   ]
  },
  {
   "cell_type": "markdown",
   "id": "dfbb4ec2",
   "metadata": {},
   "source": [
    "## Q3"
   ]
  },
  {
   "cell_type": "code",
   "execution_count": 3,
   "id": "dbb29447",
   "metadata": {},
   "outputs": [
    {
     "name": "stdout",
     "output_type": "stream",
     "text": [
      "Chi-Square Value: 80.27295426602495\n",
      "p-value: 2.682172557281901e-17\n",
      "Degrees of Freedom: 3\n",
      "Expected Frequencies Table:\n",
      "[[111.01694915  91.21892655 113.05225989  77.71186441]\n",
      " [488.98305085 401.78107345 497.94774011 342.28813559]]\n",
      "Reject null hypothesis: There is an association between gender and region.\n"
     ]
    }
   ],
   "source": [
    "import scipy.stats as stats\n",
    "\n",
    "# Create the contingency table\n",
    "observed_data = [[50, 142, 131, 70], [550, 351, 480, 350]]\n",
    "\n",
    "# Perform the Chi-Square test\n",
    "chi2, p, dof, expected = stats.chi2_contingency(observed_data)\n",
    "\n",
    "# Print the results\n",
    "print(\"Chi-Square Value:\", chi2)\n",
    "print(\"p-value:\", p)\n",
    "print(\"Degrees of Freedom:\", dof)\n",
    "print(\"Expected Frequencies Table:\")\n",
    "print(expected)\n",
    "\n",
    "# Set the significance level\n",
    "alpha = 0.05\n",
    "\n",
    "# Interpret the results\n",
    "if p < alpha:\n",
    "    print(\"Reject null hypothesis: There is an association between gender and region.\")\n",
    "else:\n",
    "    print(\"Fail to reject null hypothesis: Male-female buyer ratios are similar across regions.\")\n"
   ]
  },
  {
   "cell_type": "markdown",
   "id": "c8fa71a8",
   "metadata": {},
   "source": [
    "## Q4"
   ]
  },
  {
   "cell_type": "code",
   "execution_count": 4,
   "id": "10259beb",
   "metadata": {},
   "outputs": [
    {
     "name": "stdout",
     "output_type": "stream",
     "text": [
      "There is no significant association between the center and the defective status.\n",
      "Fail to reject the null hypothesis.\n",
      "Chi-Squared Statistic: 112.74730231885849\n",
      "P-value: 1.0\n"
     ]
    }
   ],
   "source": [
    "import numpy as np\n",
    "import pandas as pd\n",
    "from scipy.stats import chi2_contingency\n",
    "from sklearn.preprocessing import LabelEncoder\n",
    "\n",
    "# Read data from a CSV file\n",
    "data = pd.read_csv(r'C:\\Users\\Sooraj\\Downloads\\Costomer+OrderForm.csv')\n",
    "\n",
    "# Initialize LabelEncoder\n",
    "label_encoder = LabelEncoder()\n",
    "\n",
    "# Apply label encoding to the entire DataFrame\n",
    "data_encoded = data.apply(label_encoder.fit_transform)\n",
    "\n",
    "# Perform the chi-squared test\n",
    "chi2, p, _, _ = chi2_contingency(data_encoded)\n",
    "\n",
    "# Define the significance level\n",
    "alpha = 0.05\n",
    "\n",
    "# Check if the p-value is less than alpha\n",
    "if p < alpha:\n",
    "    print(\"There is a significant association between the center and the defective status.\")\n",
    "    print(\"Reject the null hypothesis.\")\n",
    "else:\n",
    "    print(\"There is no significant association between the center and the defective status.\")\n",
    "    print(\"Fail to reject the null hypothesis.\")\n",
    "    \n",
    "print(f\"Chi-Squared Statistic: {chi2}\")\n",
    "print(f\"P-value: {p}\")"
   ]
  }
 ],
 "metadata": {
  "kernelspec": {
   "display_name": "Python 3 (ipykernel)",
   "language": "python",
   "name": "python3"
  },
  "language_info": {
   "codemirror_mode": {
    "name": "ipython",
    "version": 3
   },
   "file_extension": ".py",
   "mimetype": "text/x-python",
   "name": "python",
   "nbconvert_exporter": "python",
   "pygments_lexer": "ipython3",
   "version": "3.10.9"
  }
 },
 "nbformat": 4,
 "nbformat_minor": 5
}
